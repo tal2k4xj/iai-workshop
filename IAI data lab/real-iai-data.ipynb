{
 "cells": [
  {
   "cell_type": "markdown",
   "metadata": {},
   "source": [
    "# Insert 0807.csv - Training data"
   ]
  },
  {
   "cell_type": "code",
   "execution_count": null,
   "metadata": {},
   "outputs": [],
   "source": []
  },
  {
   "cell_type": "markdown",
   "metadata": {},
   "source": [
    "# Insert 2007.csv - Testing data"
   ]
  },
  {
   "cell_type": "code",
   "execution_count": null,
   "metadata": {},
   "outputs": [],
   "source": []
  },
  {
   "cell_type": "markdown",
   "metadata": {},
   "source": [
    "# Forward and Backward Filling"
   ]
  },
  {
   "cell_type": "code",
   "execution_count": null,
   "metadata": {},
   "outputs": [],
   "source": [
    "train_df = train_df.ffill().bfill()\n",
    "test_df = test_df.ffill().bfill()\n",
    "\n",
    "train_df"
   ]
  },
  {
   "cell_type": "markdown",
   "metadata": {},
   "source": [
    "# Convert Date"
   ]
  },
  {
   "cell_type": "code",
   "execution_count": null,
   "metadata": {},
   "outputs": [],
   "source": [
    "train_df['time'] = pd.to_datetime(train_df['time'],format='%Y%m%d%H%M%S%f')\n",
    "train_df.rename(columns = {'time':'date'}, inplace = True)\n",
    "train_df.set_index('date', inplace=True)\n",
    "\n",
    "test_df['time'] = pd.to_datetime(test_df['time'],format='%Y%m%d%H%M%S%f')\n",
    "test_df.rename(columns = {'time':'date'}, inplace = True)\n",
    "test_df.set_index('date', inplace=True)"
   ]
  },
  {
   "cell_type": "markdown",
   "metadata": {},
   "source": [
    "# See training data"
   ]
  },
  {
   "cell_type": "code",
   "execution_count": null,
   "metadata": {},
   "outputs": [],
   "source": [
    "train_df"
   ]
  },
  {
   "cell_type": "markdown",
   "metadata": {},
   "source": [
    "# See testing data"
   ]
  },
  {
   "cell_type": "code",
   "execution_count": null,
   "metadata": {},
   "outputs": [],
   "source": [
    "test_df"
   ]
  },
  {
   "cell_type": "markdown",
   "metadata": {},
   "source": [
    "# Create the time series model"
   ]
  },
  {
   "cell_type": "code",
   "execution_count": null,
   "metadata": {},
   "outputs": [],
   "source": [
    "import numpy as np\n",
    "import matplotlib.pyplot as plt\n",
    "import statsmodels.api as sm\n",
    "\n",
    "# Separate the time series data into separate dataframes\n",
    "ts_data = {}\n",
    "for col in train_df.columns:\n",
    "    ts_data[col] = train_df[col]\n",
    "\n",
    "# Create a seasonal decomposition plot for each time series\n",
    "for col, data in ts_data.items():\n",
    "    decomposition = sm.tsa.seasonal_decompose(data, model='additive',period=4)\n",
    "    fig = decomposition.plot()\n",
    "    plt.title(col)\n",
    "    plt.show()\n",
    "\n",
    "# Create a time series model for each time series\n",
    "models = {}\n",
    "for col, data in ts_data.items():\n",
    "    model = sm.tsa.SARIMAX(data, order=(1, 1, 1), seasonal_order=(1, 1, 1, 12))\n",
    "    results = model.fit()\n",
    "    models[col] = results\n",
    "\n",
    "# Iterate over each time series in the new data and compare with the model\n",
    "for col in ts_data.keys():\n",
    "    new_data = test_df[col]\n",
    "    predicted = models[col].predict(start=new_data.index[0], end=new_data.index[-1])\n",
    "    residuals = new_data - predicted\n",
    "    anomalies = residuals[abs(residuals) > 2 * residuals.std()]\n",
    "    print(f\"Anomalies in {col}:\\n{anomalies}\")\n"
   ]
  }
 ],
 "metadata": {
  "kernelspec": {
   "display_name": "Python 3.10",
   "language": "python",
   "name": "python3"
  },
  "language_info": {
   "codemirror_mode": {
    "name": "ipython",
    "version": 3
   },
   "file_extension": ".py",
   "mimetype": "text/x-python",
   "name": "python",
   "nbconvert_exporter": "python",
   "pygments_lexer": "ipython3",
   "version": "3.10.9"
  }
 },
 "nbformat": 4,
 "nbformat_minor": 1
}
