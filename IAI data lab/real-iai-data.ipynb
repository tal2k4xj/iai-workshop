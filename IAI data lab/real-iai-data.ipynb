{
 "cells": [
  {
   "cell_type": "markdown",
   "metadata": {},
   "source": [
    "# Insert CSV to Pandas Dataframe"
   ]
  },
  {
   "cell_type": "code",
   "execution_count": null,
   "metadata": {},
   "outputs": [],
   "source": [
    "import pandas as pd\n",
    "import numpy as np\n",
    "from ibm_watson_studio_lib import access_project_or_space\n",
    "\n",
    "wslib = access_project_or_space({\"token\":\"PROJECT-TOKEN-HERE\"})\n",
    "\n",
    "url = 'https://raw.githubusercontent.com/tal2k4xj/iai-workshop/main/IAI%20data%20lab/0807.csv'\n",
    "df = pd.read_csv(url)\n",
    "df"
   ]
  },
  {
   "cell_type": "markdown",
   "metadata": {},
   "source": [
    "# Forward and Backward Filling"
   ]
  },
  {
   "cell_type": "code",
   "execution_count": null,
   "metadata": {},
   "outputs": [],
   "source": [
    "df = df.ffill().bfill()\n",
    "df"
   ]
  },
  {
   "cell_type": "markdown",
   "metadata": {},
   "source": [
    "# Convert Date"
   ]
  },
  {
   "cell_type": "code",
   "execution_count": null,
   "metadata": {},
   "outputs": [],
   "source": [
    "df['time'] = pd.to_datetime(df['time'],format='%Y%m%d%H%M%S%f')\n",
    "\n",
    "df = df.replace(r'^\\s*$', np.nan, regex=True)\n",
    "\n",
    "df = df.dropna(thresh=200,axis=1)\n",
    "df = df.dropna(thresh=20,axis=0)\n",
    "\n",
    "df['time'] = df['time'].replace('[.]\\d{3}','',regex=True)\n",
    "\n",
    "df"
   ]
  },
  {
   "cell_type": "markdown",
   "metadata": {},
   "source": [
    "# Save CSV in project"
   ]
  },
  {
   "cell_type": "code",
   "execution_count": null,
   "metadata": {},
   "outputs": [],
   "source": [
    "asset = wslib.save_data(\"new0807.csv\", df.to_csv(index=False).encode())\n",
    "wslib.show(asset)"
   ]
  }
 ],
 "metadata": {
  "kernelspec": {
   "display_name": "Python 3.10",
   "language": "python",
   "name": "python3"
  },
  "language_info": {
   "codemirror_mode": {
    "name": "ipython",
    "version": 3
   },
   "file_extension": ".py",
   "mimetype": "text/x-python",
   "name": "python",
   "nbconvert_exporter": "python",
   "pygments_lexer": "ipython3",
   "version": "3.10.9"
  }
 },
 "nbformat": 4,
 "nbformat_minor": 1
}
