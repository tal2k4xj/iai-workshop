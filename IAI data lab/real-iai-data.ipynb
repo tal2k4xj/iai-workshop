{
 "cells": [
  {
   "cell_type": "markdown",
   "metadata": {},
   "source": [
    "# Insert CSV to Pandas Dataframe"
   ]
  },
  {
   "cell_type": "code",
   "execution_count": null,
   "metadata": {},
   "outputs": [],
   "source": [
    "import pandas as pd\n",
    "import numpy as np\n",
    "import statsmodels.api as sm\n",
    "import matplotlib.pyplot as plt\n",
    "\n",
    "url = 'https://raw.githubusercontent.com/tal2k4xj/iai-workshop/main/IAI%20data%20lab/0807.csv'\n",
    "df = pd.read_csv(url)\n",
    "df"
   ]
  },
  {
   "cell_type": "markdown",
   "metadata": {},
   "source": [
    "# Forward and Backward Filling"
   ]
  },
  {
   "cell_type": "code",
   "execution_count": null,
   "metadata": {},
   "outputs": [],
   "source": [
    "df = df.ffill().bfill()\n",
    "df"
   ]
  },
  {
   "cell_type": "markdown",
   "metadata": {},
   "source": [
    "# Convert Date"
   ]
  },
  {
   "cell_type": "code",
   "execution_count": null,
   "metadata": {},
   "outputs": [],
   "source": [
    "df['time'] = pd.to_datetime(df['time'],format='%Y%m%d%H%M%S%f')\n",
    "\n",
    "df = df.replace(r'^\\s*$', np.nan, regex=True)\n",
    "\n",
    "df = df.dropna(thresh=200,axis=1)\n",
    "df = df.dropna(thresh=20,axis=0)\n",
    "\n",
    "df['time'] = df['time'].replace('[.]\\d{3}','',regex=True)\n",
    "\n",
    "df.rename(columns = {'time':'date'}, inplace = True)\n",
    "df.set_index('date', inplace=True)\n",
    "\n",
    "df"
   ]
  },
  {
   "cell_type": "markdown",
   "metadata": {},
   "source": [
    "# Create the time series model"
   ]
  },
  {
   "cell_type": "code",
   "execution_count": null,
   "metadata": {},
   "outputs": [],
   "source": [
    "# Separate the time series data into separate dataframes\n",
    "ts_data = {}\n",
    "for col in df.columns:\n",
    "    ts_data[col] = df[col]\n",
    "\n",
    "# Create a seasonal decomposition plot for each time series\n",
    "for col, data in ts_data.items():\n",
    "    decomposition = sm.tsa.seasonal_decompose(data, model='additive',period=4)\n",
    "    fig = decomposition.plot()\n",
    "    plt.title(col)\n",
    "    plt.show()\n",
    "\n",
    "# Create a time series model for each time series\n",
    "models = {}\n",
    "for col, data in ts_data.items():\n",
    "    model = sm.tsa.SARIMAX(data, order=(1, 1, 1), seasonal_order=(1, 1, 1, 12))\n",
    "    results = model.fit()\n",
    "    models[col] = results\n",
    "\n",
    "# Read the new CSV file for comparison\n",
    "new_df = pd.read_csv('https://raw.githubusercontent.com/tal2k4xj/iai-workshop/main/IAI%20data%20lab/2007.csv')\n",
    "\n",
    "new_df.rename(columns = {'time':'date'}, inplace = True)\n",
    "\n",
    "# Convert 'date' column to datetime object\n",
    "new_df['date'] = pd.to_datetime(new_df['date'])\n",
    "\n",
    "# Set 'date' column as index\n",
    "new_df.set_index('date', inplace=True)\n",
    "\n",
    "# Iterate over each time series in the new data and compare with the model\n",
    "for col in ts_data.keys():\n",
    "    new_data = new_df[col]\n",
    "    predicted = models[col].predict(start=new_data.index[0], end=new_data.index[-1])\n",
    "    residuals = new_data - predicted\n",
    "    anomalies = residuals[abs(residuals) > 2 * residuals.std()]\n",
    "    print(f\"Anomalies in {col}:\\n{anomalies}\")\n"
   ]
  }
 ],
 "metadata": {
  "kernelspec": {
   "display_name": "Python 3.10",
   "language": "python",
   "name": "python3"
  },
  "language_info": {
   "codemirror_mode": {
    "name": "ipython",
    "version": 3
   },
   "file_extension": ".py",
   "mimetype": "text/x-python",
   "name": "python",
   "nbconvert_exporter": "python",
   "pygments_lexer": "ipython3",
   "version": "3.10.9"
  }
 },
 "nbformat": 4,
 "nbformat_minor": 1
}
